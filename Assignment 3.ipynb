{
 "cells": [
  {
   "cell_type": "markdown",
   "id": "ff077aeb",
   "metadata": {},
   "source": [
    "# TASK 3\n",
    "##  REFERRAL CODE: SIRSS2247\n",
    "## NAME-VATAN GUPTA"
   ]
  },
  {
   "cell_type": "markdown",
   "id": "230d7a39",
   "metadata": {},
   "source": [
    "#Q1. Write a function to return nth term of Fibonacci sequence."
   ]
  },
  {
   "cell_type": "code",
   "execution_count": 1,
   "id": "d5569c25",
   "metadata": {},
   "outputs": [
    {
     "name": "stdout",
     "output_type": "stream",
     "text": [
      "Enter the term you want to search in the fibonacci sequence7\n",
      "13\n"
     ]
    }
   ],
   "source": [
    "def fib(n): \n",
    "    if(n==0):\n",
    "        return 0\n",
    "    elif(n==1):\n",
    "        return 1\n",
    "    else:\n",
    "        return fib(n-1)+fib(n-2)\n",
    "a=int(input(\"Enter the term you want to search in the fibonacci sequence\"))\n",
    "if a<0:\n",
    "    print(\"Please enter a positive value\")\n",
    "else:\n",
    "    print(fib(a))\n",
    "        "
   ]
  },
  {
   "cell_type": "markdown",
   "id": "68ce6d57",
   "metadata": {},
   "source": [
    "#Q2.Write a function to find out GCD of two numbers using EUCLID'S algorithm."
   ]
  },
  {
   "cell_type": "code",
   "execution_count": 2,
   "id": "844c43a7",
   "metadata": {},
   "outputs": [
    {
     "name": "stdout",
     "output_type": "stream",
     "text": [
      "Enter first number : 786\n",
      "Enter second number : 32\n",
      "GCD is  2\n"
     ]
    }
   ],
   "source": [
    "def GCD(a,b):\n",
    "    if b==0:\n",
    "        return a\n",
    "    else:\n",
    "        return GCD(b,a%b)\n",
    "a=int(input(\"Enter first number : \"))\n",
    "b=int(input(\"Enter second number : \"))\n",
    "print(\"GCD is \", GCD(a,b))    "
   ]
  },
  {
   "cell_type": "markdown",
   "id": "348a27ca",
   "metadata": {},
   "source": [
    "#Q3. Write a function to find LCM of two number in most optimizers way."
   ]
  },
  {
   "cell_type": "code",
   "execution_count": 3,
   "id": "bf3634ab",
   "metadata": {},
   "outputs": [
    {
     "name": "stdout",
     "output_type": "stream",
     "text": [
      "Enter first number : 50\n",
      "Enter second number : 34\n",
      "LCM is  850\n"
     ]
    }
   ],
   "source": [
    "def lcm(a,b):\n",
    "  return (a // GCD(a,b))* b\n",
    "a=int(input(\"Enter first number : \"))\n",
    "b=int(input(\"Enter second number : \"))\n",
    "print(\"LCM is \", lcm(a,b))"
   ]
  },
  {
   "cell_type": "code",
   "execution_count": null,
   "id": "a6c60cf2",
   "metadata": {},
   "outputs": [],
   "source": []
  }
 ],
 "metadata": {
  "kernelspec": {
   "display_name": "Python 3",
   "language": "python",
   "name": "python3"
  },
  "language_info": {
   "codemirror_mode": {
    "name": "ipython",
    "version": 3
   },
   "file_extension": ".py",
   "mimetype": "text/x-python",
   "name": "python",
   "nbconvert_exporter": "python",
   "pygments_lexer": "ipython3",
   "version": "3.8.8"
  }
 },
 "nbformat": 4,
 "nbformat_minor": 5
}
